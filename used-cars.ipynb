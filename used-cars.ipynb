{
 "cells": [
  {
   "cell_type": "code",
   "execution_count": 1,
   "id": "4f7d15ad",
   "metadata": {},
   "outputs": [],
   "source": [
    "import numpy as np\n",
    "import pandas as pd\n",
    "import seaborn as sns\n",
    "import plotly.express as px"
   ]
  },
  {
   "cell_type": "code",
   "execution_count": 2,
   "id": "1ebb60e1",
   "metadata": {},
   "outputs": [
    {
     "data": {
      "text/html": [
       "<div>\n",
       "<style scoped>\n",
       "    .dataframe tbody tr th:only-of-type {\n",
       "        vertical-align: middle;\n",
       "    }\n",
       "\n",
       "    .dataframe tbody tr th {\n",
       "        vertical-align: top;\n",
       "    }\n",
       "\n",
       "    .dataframe thead th {\n",
       "        text-align: right;\n",
       "    }\n",
       "</style>\n",
       "<table border=\"1\" class=\"dataframe\">\n",
       "  <thead>\n",
       "    <tr style=\"text-align: right;\">\n",
       "      <th></th>\n",
       "      <th>index</th>\n",
       "      <th>dateCrawled</th>\n",
       "      <th>name</th>\n",
       "      <th>seller</th>\n",
       "      <th>offerType</th>\n",
       "      <th>price</th>\n",
       "      <th>abtest</th>\n",
       "      <th>vehicleType</th>\n",
       "      <th>yearOfRegistration</th>\n",
       "      <th>gearbox</th>\n",
       "      <th>...</th>\n",
       "      <th>model</th>\n",
       "      <th>kilometer</th>\n",
       "      <th>monthOfRegistration</th>\n",
       "      <th>fuelType</th>\n",
       "      <th>brand</th>\n",
       "      <th>notRepairedDamage</th>\n",
       "      <th>dateCreated</th>\n",
       "      <th>nrOfPictures</th>\n",
       "      <th>postalCode</th>\n",
       "      <th>lastSeen</th>\n",
       "    </tr>\n",
       "  </thead>\n",
       "  <tbody>\n",
       "    <tr>\n",
       "      <th>0</th>\n",
       "      <td>0</td>\n",
       "      <td>2016-03-24 11:52:17</td>\n",
       "      <td>Golf_3_1.6</td>\n",
       "      <td>privat</td>\n",
       "      <td>Angebot</td>\n",
       "      <td>480</td>\n",
       "      <td>test</td>\n",
       "      <td>NaN</td>\n",
       "      <td>1993</td>\n",
       "      <td>manuell</td>\n",
       "      <td>...</td>\n",
       "      <td>golf</td>\n",
       "      <td>150000</td>\n",
       "      <td>0</td>\n",
       "      <td>benzin</td>\n",
       "      <td>volkswagen</td>\n",
       "      <td>NaN</td>\n",
       "      <td>2016-03-24 00:00:00</td>\n",
       "      <td>0</td>\n",
       "      <td>70435</td>\n",
       "      <td>2016-04-07 03:16:57</td>\n",
       "    </tr>\n",
       "    <tr>\n",
       "      <th>1</th>\n",
       "      <td>1</td>\n",
       "      <td>2016-03-24 10:58:45</td>\n",
       "      <td>A5_Sportback_2.7_Tdi</td>\n",
       "      <td>privat</td>\n",
       "      <td>Angebot</td>\n",
       "      <td>18300</td>\n",
       "      <td>test</td>\n",
       "      <td>coupe</td>\n",
       "      <td>2011</td>\n",
       "      <td>manuell</td>\n",
       "      <td>...</td>\n",
       "      <td>NaN</td>\n",
       "      <td>125000</td>\n",
       "      <td>5</td>\n",
       "      <td>diesel</td>\n",
       "      <td>audi</td>\n",
       "      <td>ja</td>\n",
       "      <td>2016-03-24 00:00:00</td>\n",
       "      <td>0</td>\n",
       "      <td>66954</td>\n",
       "      <td>2016-04-07 01:46:50</td>\n",
       "    </tr>\n",
       "    <tr>\n",
       "      <th>2</th>\n",
       "      <td>2</td>\n",
       "      <td>2016-03-14 12:52:21</td>\n",
       "      <td>Jeep_Grand_Cherokee_\"Overland\"</td>\n",
       "      <td>privat</td>\n",
       "      <td>Angebot</td>\n",
       "      <td>9800</td>\n",
       "      <td>test</td>\n",
       "      <td>suv</td>\n",
       "      <td>2004</td>\n",
       "      <td>automatik</td>\n",
       "      <td>...</td>\n",
       "      <td>grand</td>\n",
       "      <td>125000</td>\n",
       "      <td>8</td>\n",
       "      <td>diesel</td>\n",
       "      <td>jeep</td>\n",
       "      <td>NaN</td>\n",
       "      <td>2016-03-14 00:00:00</td>\n",
       "      <td>0</td>\n",
       "      <td>90480</td>\n",
       "      <td>2016-04-05 12:47:46</td>\n",
       "    </tr>\n",
       "    <tr>\n",
       "      <th>3</th>\n",
       "      <td>3</td>\n",
       "      <td>2016-03-17 16:54:04</td>\n",
       "      <td>GOLF_4_1_4__3TÜRER</td>\n",
       "      <td>privat</td>\n",
       "      <td>Angebot</td>\n",
       "      <td>1500</td>\n",
       "      <td>test</td>\n",
       "      <td>kleinwagen</td>\n",
       "      <td>2001</td>\n",
       "      <td>manuell</td>\n",
       "      <td>...</td>\n",
       "      <td>golf</td>\n",
       "      <td>150000</td>\n",
       "      <td>6</td>\n",
       "      <td>benzin</td>\n",
       "      <td>volkswagen</td>\n",
       "      <td>nein</td>\n",
       "      <td>2016-03-17 00:00:00</td>\n",
       "      <td>0</td>\n",
       "      <td>91074</td>\n",
       "      <td>2016-03-17 17:40:17</td>\n",
       "    </tr>\n",
       "    <tr>\n",
       "      <th>4</th>\n",
       "      <td>4</td>\n",
       "      <td>2016-03-31 17:25:20</td>\n",
       "      <td>Skoda_Fabia_1.4_TDI_PD_Classic</td>\n",
       "      <td>privat</td>\n",
       "      <td>Angebot</td>\n",
       "      <td>3600</td>\n",
       "      <td>test</td>\n",
       "      <td>kleinwagen</td>\n",
       "      <td>2008</td>\n",
       "      <td>manuell</td>\n",
       "      <td>...</td>\n",
       "      <td>fabia</td>\n",
       "      <td>90000</td>\n",
       "      <td>7</td>\n",
       "      <td>diesel</td>\n",
       "      <td>skoda</td>\n",
       "      <td>nein</td>\n",
       "      <td>2016-03-31 00:00:00</td>\n",
       "      <td>0</td>\n",
       "      <td>60437</td>\n",
       "      <td>2016-04-06 10:17:21</td>\n",
       "    </tr>\n",
       "  </tbody>\n",
       "</table>\n",
       "<p>5 rows × 21 columns</p>\n",
       "</div>"
      ],
      "text/plain": [
       "   index          dateCrawled                            name  seller  \\\n",
       "0      0  2016-03-24 11:52:17                      Golf_3_1.6  privat   \n",
       "1      1  2016-03-24 10:58:45            A5_Sportback_2.7_Tdi  privat   \n",
       "2      2  2016-03-14 12:52:21  Jeep_Grand_Cherokee_\"Overland\"  privat   \n",
       "3      3  2016-03-17 16:54:04              GOLF_4_1_4__3TÜRER  privat   \n",
       "4      4  2016-03-31 17:25:20  Skoda_Fabia_1.4_TDI_PD_Classic  privat   \n",
       "\n",
       "  offerType  price abtest vehicleType  yearOfRegistration    gearbox  ...  \\\n",
       "0   Angebot    480   test         NaN                1993    manuell  ...   \n",
       "1   Angebot  18300   test       coupe                2011    manuell  ...   \n",
       "2   Angebot   9800   test         suv                2004  automatik  ...   \n",
       "3   Angebot   1500   test  kleinwagen                2001    manuell  ...   \n",
       "4   Angebot   3600   test  kleinwagen                2008    manuell  ...   \n",
       "\n",
       "   model kilometer  monthOfRegistration  fuelType       brand  \\\n",
       "0   golf    150000                    0    benzin  volkswagen   \n",
       "1    NaN    125000                    5    diesel        audi   \n",
       "2  grand    125000                    8    diesel        jeep   \n",
       "3   golf    150000                    6    benzin  volkswagen   \n",
       "4  fabia     90000                    7    diesel       skoda   \n",
       "\n",
       "  notRepairedDamage          dateCreated nrOfPictures  postalCode  \\\n",
       "0               NaN  2016-03-24 00:00:00            0       70435   \n",
       "1                ja  2016-03-24 00:00:00            0       66954   \n",
       "2               NaN  2016-03-14 00:00:00            0       90480   \n",
       "3              nein  2016-03-17 00:00:00            0       91074   \n",
       "4              nein  2016-03-31 00:00:00            0       60437   \n",
       "\n",
       "              lastSeen  \n",
       "0  2016-04-07 03:16:57  \n",
       "1  2016-04-07 01:46:50  \n",
       "2  2016-04-05 12:47:46  \n",
       "3  2016-03-17 17:40:17  \n",
       "4  2016-04-06 10:17:21  \n",
       "\n",
       "[5 rows x 21 columns]"
      ]
     },
     "execution_count": 2,
     "metadata": {},
     "output_type": "execute_result"
    }
   ],
   "source": [
    "df = pd.read_csv('autos.csv')\n",
    "df.head()"
   ]
  },
  {
   "cell_type": "code",
   "execution_count": 3,
   "id": "d25de6c3",
   "metadata": {},
   "outputs": [
    {
     "name": "stdout",
     "output_type": "stream",
     "text": [
      "<class 'pandas.core.frame.DataFrame'>\n",
      "RangeIndex: 371528 entries, 0 to 371527\n",
      "Data columns (total 21 columns):\n",
      " #   Column               Non-Null Count   Dtype \n",
      "---  ------               --------------   ----- \n",
      " 0   index                371528 non-null  int64 \n",
      " 1   dateCrawled          371528 non-null  object\n",
      " 2   name                 371528 non-null  object\n",
      " 3   seller               371528 non-null  object\n",
      " 4   offerType            371528 non-null  object\n",
      " 5   price                371528 non-null  int64 \n",
      " 6   abtest               371528 non-null  object\n",
      " 7   vehicleType          333659 non-null  object\n",
      " 8   yearOfRegistration   371528 non-null  int64 \n",
      " 9   gearbox              351319 non-null  object\n",
      " 10  powerPS              371528 non-null  int64 \n",
      " 11  model                351044 non-null  object\n",
      " 12  kilometer            371528 non-null  int64 \n",
      " 13  monthOfRegistration  371528 non-null  int64 \n",
      " 14  fuelType             338142 non-null  object\n",
      " 15  brand                371528 non-null  object\n",
      " 16  notRepairedDamage    299468 non-null  object\n",
      " 17  dateCreated          371528 non-null  object\n",
      " 18  nrOfPictures         371528 non-null  int64 \n",
      " 19  postalCode           371528 non-null  int64 \n",
      " 20  lastSeen             371528 non-null  object\n",
      "dtypes: int64(8), object(13)\n",
      "memory usage: 59.5+ MB\n"
     ]
    }
   ],
   "source": [
    "df.info()"
   ]
  },
  {
   "cell_type": "code",
   "execution_count": 4,
   "id": "9a1ba3ef",
   "metadata": {},
   "outputs": [
    {
     "data": {
      "text/html": [
       "<div>\n",
       "<style scoped>\n",
       "    .dataframe tbody tr th:only-of-type {\n",
       "        vertical-align: middle;\n",
       "    }\n",
       "\n",
       "    .dataframe tbody tr th {\n",
       "        vertical-align: top;\n",
       "    }\n",
       "\n",
       "    .dataframe thead th {\n",
       "        text-align: right;\n",
       "    }\n",
       "</style>\n",
       "<table border=\"1\" class=\"dataframe\">\n",
       "  <thead>\n",
       "    <tr style=\"text-align: right;\">\n",
       "      <th></th>\n",
       "      <th>index</th>\n",
       "      <th>price</th>\n",
       "      <th>yearOfRegistration</th>\n",
       "      <th>powerPS</th>\n",
       "      <th>kilometer</th>\n",
       "      <th>monthOfRegistration</th>\n",
       "      <th>nrOfPictures</th>\n",
       "      <th>postalCode</th>\n",
       "    </tr>\n",
       "  </thead>\n",
       "  <tbody>\n",
       "    <tr>\n",
       "      <th>count</th>\n",
       "      <td>371528.00</td>\n",
       "      <td>3.715280e+05</td>\n",
       "      <td>371528.00</td>\n",
       "      <td>371528.00</td>\n",
       "      <td>371528.00</td>\n",
       "      <td>371528.00</td>\n",
       "      <td>371528.0</td>\n",
       "      <td>371528.00</td>\n",
       "    </tr>\n",
       "    <tr>\n",
       "      <th>mean</th>\n",
       "      <td>185763.50</td>\n",
       "      <td>1.729514e+04</td>\n",
       "      <td>2004.58</td>\n",
       "      <td>115.55</td>\n",
       "      <td>125618.69</td>\n",
       "      <td>5.73</td>\n",
       "      <td>0.0</td>\n",
       "      <td>50820.67</td>\n",
       "    </tr>\n",
       "    <tr>\n",
       "      <th>std</th>\n",
       "      <td>107251.04</td>\n",
       "      <td>3.587954e+06</td>\n",
       "      <td>92.87</td>\n",
       "      <td>192.14</td>\n",
       "      <td>40112.34</td>\n",
       "      <td>3.71</td>\n",
       "      <td>0.0</td>\n",
       "      <td>25799.08</td>\n",
       "    </tr>\n",
       "    <tr>\n",
       "      <th>min</th>\n",
       "      <td>0.00</td>\n",
       "      <td>0.000000e+00</td>\n",
       "      <td>1000.00</td>\n",
       "      <td>0.00</td>\n",
       "      <td>5000.00</td>\n",
       "      <td>0.00</td>\n",
       "      <td>0.0</td>\n",
       "      <td>1067.00</td>\n",
       "    </tr>\n",
       "    <tr>\n",
       "      <th>25%</th>\n",
       "      <td>92881.75</td>\n",
       "      <td>1.150000e+03</td>\n",
       "      <td>1999.00</td>\n",
       "      <td>70.00</td>\n",
       "      <td>125000.00</td>\n",
       "      <td>3.00</td>\n",
       "      <td>0.0</td>\n",
       "      <td>30459.00</td>\n",
       "    </tr>\n",
       "    <tr>\n",
       "      <th>50%</th>\n",
       "      <td>185763.50</td>\n",
       "      <td>2.950000e+03</td>\n",
       "      <td>2003.00</td>\n",
       "      <td>105.00</td>\n",
       "      <td>150000.00</td>\n",
       "      <td>6.00</td>\n",
       "      <td>0.0</td>\n",
       "      <td>49610.00</td>\n",
       "    </tr>\n",
       "    <tr>\n",
       "      <th>75%</th>\n",
       "      <td>278645.25</td>\n",
       "      <td>7.200000e+03</td>\n",
       "      <td>2008.00</td>\n",
       "      <td>150.00</td>\n",
       "      <td>150000.00</td>\n",
       "      <td>9.00</td>\n",
       "      <td>0.0</td>\n",
       "      <td>71546.00</td>\n",
       "    </tr>\n",
       "    <tr>\n",
       "      <th>max</th>\n",
       "      <td>371527.00</td>\n",
       "      <td>2.147484e+09</td>\n",
       "      <td>9999.00</td>\n",
       "      <td>20000.00</td>\n",
       "      <td>150000.00</td>\n",
       "      <td>12.00</td>\n",
       "      <td>0.0</td>\n",
       "      <td>99998.00</td>\n",
       "    </tr>\n",
       "  </tbody>\n",
       "</table>\n",
       "</div>"
      ],
      "text/plain": [
       "           index         price  yearOfRegistration    powerPS  kilometer  \\\n",
       "count  371528.00  3.715280e+05           371528.00  371528.00  371528.00   \n",
       "mean   185763.50  1.729514e+04             2004.58     115.55  125618.69   \n",
       "std    107251.04  3.587954e+06               92.87     192.14   40112.34   \n",
       "min         0.00  0.000000e+00             1000.00       0.00    5000.00   \n",
       "25%     92881.75  1.150000e+03             1999.00      70.00  125000.00   \n",
       "50%    185763.50  2.950000e+03             2003.00     105.00  150000.00   \n",
       "75%    278645.25  7.200000e+03             2008.00     150.00  150000.00   \n",
       "max    371527.00  2.147484e+09             9999.00   20000.00  150000.00   \n",
       "\n",
       "       monthOfRegistration  nrOfPictures  postalCode  \n",
       "count            371528.00      371528.0   371528.00  \n",
       "mean                  5.73           0.0    50820.67  \n",
       "std                   3.71           0.0    25799.08  \n",
       "min                   0.00           0.0     1067.00  \n",
       "25%                   3.00           0.0    30459.00  \n",
       "50%                   6.00           0.0    49610.00  \n",
       "75%                   9.00           0.0    71546.00  \n",
       "max                  12.00           0.0    99998.00  "
      ]
     },
     "execution_count": 4,
     "metadata": {},
     "output_type": "execute_result"
    }
   ],
   "source": [
    "df.describe().round(2)"
   ]
  },
  {
   "cell_type": "code",
   "execution_count": 5,
   "id": "e5d7d6fd",
   "metadata": {},
   "outputs": [
    {
     "data": {
      "text/html": [
       "<div>\n",
       "<style scoped>\n",
       "    .dataframe tbody tr th:only-of-type {\n",
       "        vertical-align: middle;\n",
       "    }\n",
       "\n",
       "    .dataframe tbody tr th {\n",
       "        vertical-align: top;\n",
       "    }\n",
       "\n",
       "    .dataframe thead th {\n",
       "        text-align: right;\n",
       "    }\n",
       "</style>\n",
       "<table border=\"1\" class=\"dataframe\">\n",
       "  <thead>\n",
       "    <tr style=\"text-align: right;\">\n",
       "      <th></th>\n",
       "      <th>dateCrawled</th>\n",
       "      <th>name</th>\n",
       "      <th>seller</th>\n",
       "      <th>offerType</th>\n",
       "      <th>abtest</th>\n",
       "      <th>vehicleType</th>\n",
       "      <th>gearbox</th>\n",
       "      <th>model</th>\n",
       "      <th>fuelType</th>\n",
       "      <th>brand</th>\n",
       "      <th>notRepairedDamage</th>\n",
       "      <th>dateCreated</th>\n",
       "      <th>lastSeen</th>\n",
       "    </tr>\n",
       "  </thead>\n",
       "  <tbody>\n",
       "    <tr>\n",
       "      <th>count</th>\n",
       "      <td>371528</td>\n",
       "      <td>371528</td>\n",
       "      <td>371528</td>\n",
       "      <td>371528</td>\n",
       "      <td>371528</td>\n",
       "      <td>333659</td>\n",
       "      <td>351319</td>\n",
       "      <td>351044</td>\n",
       "      <td>338142</td>\n",
       "      <td>371528</td>\n",
       "      <td>299468</td>\n",
       "      <td>371528</td>\n",
       "      <td>371528</td>\n",
       "    </tr>\n",
       "    <tr>\n",
       "      <th>unique</th>\n",
       "      <td>280500</td>\n",
       "      <td>233531</td>\n",
       "      <td>2</td>\n",
       "      <td>2</td>\n",
       "      <td>2</td>\n",
       "      <td>8</td>\n",
       "      <td>2</td>\n",
       "      <td>251</td>\n",
       "      <td>7</td>\n",
       "      <td>40</td>\n",
       "      <td>2</td>\n",
       "      <td>114</td>\n",
       "      <td>182806</td>\n",
       "    </tr>\n",
       "    <tr>\n",
       "      <th>top</th>\n",
       "      <td>2016-03-24 14:49:47</td>\n",
       "      <td>Ford_Fiesta</td>\n",
       "      <td>privat</td>\n",
       "      <td>Angebot</td>\n",
       "      <td>test</td>\n",
       "      <td>limousine</td>\n",
       "      <td>manuell</td>\n",
       "      <td>golf</td>\n",
       "      <td>benzin</td>\n",
       "      <td>volkswagen</td>\n",
       "      <td>nein</td>\n",
       "      <td>2016-04-03 00:00:00</td>\n",
       "      <td>2016-04-07 06:45:59</td>\n",
       "    </tr>\n",
       "    <tr>\n",
       "      <th>freq</th>\n",
       "      <td>7</td>\n",
       "      <td>657</td>\n",
       "      <td>371525</td>\n",
       "      <td>371516</td>\n",
       "      <td>192585</td>\n",
       "      <td>95894</td>\n",
       "      <td>274214</td>\n",
       "      <td>30070</td>\n",
       "      <td>223857</td>\n",
       "      <td>79640</td>\n",
       "      <td>263182</td>\n",
       "      <td>14450</td>\n",
       "      <td>17</td>\n",
       "    </tr>\n",
       "  </tbody>\n",
       "</table>\n",
       "</div>"
      ],
      "text/plain": [
       "                dateCrawled         name  seller offerType  abtest  \\\n",
       "count                371528       371528  371528    371528  371528   \n",
       "unique               280500       233531       2         2       2   \n",
       "top     2016-03-24 14:49:47  Ford_Fiesta  privat   Angebot    test   \n",
       "freq                      7          657  371525    371516  192585   \n",
       "\n",
       "       vehicleType  gearbox   model fuelType       brand notRepairedDamage  \\\n",
       "count       333659   351319  351044   338142      371528            299468   \n",
       "unique           8        2     251        7          40                 2   \n",
       "top      limousine  manuell    golf   benzin  volkswagen              nein   \n",
       "freq         95894   274214   30070   223857       79640            263182   \n",
       "\n",
       "                dateCreated             lastSeen  \n",
       "count                371528               371528  \n",
       "unique                  114               182806  \n",
       "top     2016-04-03 00:00:00  2016-04-07 06:45:59  \n",
       "freq                  14450                   17  "
      ]
     },
     "execution_count": 5,
     "metadata": {},
     "output_type": "execute_result"
    }
   ],
   "source": [
    "df.describe(include= 'object')"
   ]
  },
  {
   "cell_type": "code",
   "execution_count": 6,
   "id": "9a1180e2",
   "metadata": {},
   "outputs": [
    {
     "data": {
      "text/plain": [
       "0"
      ]
     },
     "execution_count": 6,
     "metadata": {},
     "output_type": "execute_result"
    }
   ],
   "source": [
    "df.duplicated().sum()"
   ]
  },
  {
   "cell_type": "code",
   "execution_count": 7,
   "id": "95cbd116",
   "metadata": {},
   "outputs": [
    {
     "data": {
      "text/plain": [
       "index                      0\n",
       "dateCrawled                0\n",
       "name                       0\n",
       "seller                     0\n",
       "offerType                  0\n",
       "price                      0\n",
       "abtest                     0\n",
       "vehicleType            37869\n",
       "yearOfRegistration         0\n",
       "gearbox                20209\n",
       "powerPS                    0\n",
       "model                  20484\n",
       "kilometer                  0\n",
       "monthOfRegistration        0\n",
       "fuelType               33386\n",
       "brand                      0\n",
       "notRepairedDamage      72060\n",
       "dateCreated                0\n",
       "nrOfPictures               0\n",
       "postalCode                 0\n",
       "lastSeen                   0\n",
       "dtype: int64"
      ]
     },
     "execution_count": 7,
     "metadata": {},
     "output_type": "execute_result"
    }
   ],
   "source": [
    "df.isna().sum()"
   ]
  },
  {
   "cell_type": "code",
   "execution_count": 8,
   "id": "3d251534",
   "metadata": {},
   "outputs": [
    {
     "data": {
      "text/plain": [
       "index                   0.0\n",
       "dateCrawled             0.0\n",
       "name                    0.0\n",
       "seller                  0.0\n",
       "offerType               0.0\n",
       "price                   0.0\n",
       "abtest                  0.0\n",
       "vehicleType            10.0\n",
       "yearOfRegistration      0.0\n",
       "gearbox                 5.0\n",
       "powerPS                 0.0\n",
       "model                   6.0\n",
       "kilometer               0.0\n",
       "monthOfRegistration     0.0\n",
       "fuelType                9.0\n",
       "brand                   0.0\n",
       "notRepairedDamage      19.0\n",
       "dateCreated             0.0\n",
       "nrOfPictures            0.0\n",
       "postalCode              0.0\n",
       "lastSeen                0.0\n",
       "dtype: float64"
      ]
     },
     "execution_count": 8,
     "metadata": {},
     "output_type": "execute_result"
    }
   ],
   "source": [
    "round((df.isna().mean()) * 100)"
   ]
  },
  {
   "cell_type": "code",
   "execution_count": 9,
   "id": "a28db4f1",
   "metadata": {},
   "outputs": [
    {
     "data": {
      "text/html": [
       "<div>\n",
       "<style scoped>\n",
       "    .dataframe tbody tr th:only-of-type {\n",
       "        vertical-align: middle;\n",
       "    }\n",
       "\n",
       "    .dataframe tbody tr th {\n",
       "        vertical-align: top;\n",
       "    }\n",
       "\n",
       "    .dataframe thead th {\n",
       "        text-align: right;\n",
       "    }\n",
       "</style>\n",
       "<table border=\"1\" class=\"dataframe\">\n",
       "  <thead>\n",
       "    <tr style=\"text-align: right;\">\n",
       "      <th></th>\n",
       "      <th>index</th>\n",
       "      <th>dateCrawled</th>\n",
       "      <th>name</th>\n",
       "      <th>seller</th>\n",
       "      <th>offerType</th>\n",
       "      <th>price</th>\n",
       "      <th>abtest</th>\n",
       "      <th>vehicleType</th>\n",
       "      <th>yearOfRegistration</th>\n",
       "      <th>gearbox</th>\n",
       "      <th>...</th>\n",
       "      <th>model</th>\n",
       "      <th>kilometer</th>\n",
       "      <th>monthOfRegistration</th>\n",
       "      <th>fuelType</th>\n",
       "      <th>brand</th>\n",
       "      <th>notRepairedDamage</th>\n",
       "      <th>dateCreated</th>\n",
       "      <th>nrOfPictures</th>\n",
       "      <th>postalCode</th>\n",
       "      <th>lastSeen</th>\n",
       "    </tr>\n",
       "  </thead>\n",
       "  <tbody>\n",
       "    <tr>\n",
       "      <th>2</th>\n",
       "      <td>2</td>\n",
       "      <td>2016-03-14 12:52:21</td>\n",
       "      <td>Jeep_Grand_Cherokee_\"Overland\"</td>\n",
       "      <td>privat</td>\n",
       "      <td>Angebot</td>\n",
       "      <td>9800</td>\n",
       "      <td>test</td>\n",
       "      <td>suv</td>\n",
       "      <td>2004</td>\n",
       "      <td>automatik</td>\n",
       "      <td>...</td>\n",
       "      <td>grand</td>\n",
       "      <td>125000</td>\n",
       "      <td>8</td>\n",
       "      <td>diesel</td>\n",
       "      <td>jeep</td>\n",
       "      <td>NaN</td>\n",
       "      <td>2016-03-14 00:00:00</td>\n",
       "      <td>0</td>\n",
       "      <td>90480</td>\n",
       "      <td>2016-04-05 12:47:46</td>\n",
       "    </tr>\n",
       "    <tr>\n",
       "      <th>3</th>\n",
       "      <td>3</td>\n",
       "      <td>2016-03-17 16:54:04</td>\n",
       "      <td>GOLF_4_1_4__3TÜRER</td>\n",
       "      <td>privat</td>\n",
       "      <td>Angebot</td>\n",
       "      <td>1500</td>\n",
       "      <td>test</td>\n",
       "      <td>kleinwagen</td>\n",
       "      <td>2001</td>\n",
       "      <td>manuell</td>\n",
       "      <td>...</td>\n",
       "      <td>golf</td>\n",
       "      <td>150000</td>\n",
       "      <td>6</td>\n",
       "      <td>benzin</td>\n",
       "      <td>volkswagen</td>\n",
       "      <td>nein</td>\n",
       "      <td>2016-03-17 00:00:00</td>\n",
       "      <td>0</td>\n",
       "      <td>91074</td>\n",
       "      <td>2016-03-17 17:40:17</td>\n",
       "    </tr>\n",
       "    <tr>\n",
       "      <th>4</th>\n",
       "      <td>4</td>\n",
       "      <td>2016-03-31 17:25:20</td>\n",
       "      <td>Skoda_Fabia_1.4_TDI_PD_Classic</td>\n",
       "      <td>privat</td>\n",
       "      <td>Angebot</td>\n",
       "      <td>3600</td>\n",
       "      <td>test</td>\n",
       "      <td>kleinwagen</td>\n",
       "      <td>2008</td>\n",
       "      <td>manuell</td>\n",
       "      <td>...</td>\n",
       "      <td>fabia</td>\n",
       "      <td>90000</td>\n",
       "      <td>7</td>\n",
       "      <td>diesel</td>\n",
       "      <td>skoda</td>\n",
       "      <td>nein</td>\n",
       "      <td>2016-03-31 00:00:00</td>\n",
       "      <td>0</td>\n",
       "      <td>60437</td>\n",
       "      <td>2016-04-06 10:17:21</td>\n",
       "    </tr>\n",
       "    <tr>\n",
       "      <th>5</th>\n",
       "      <td>5</td>\n",
       "      <td>2016-04-04 17:36:23</td>\n",
       "      <td>BMW_316i___e36_Limousine___Bastlerfahrzeug__Ex...</td>\n",
       "      <td>privat</td>\n",
       "      <td>Angebot</td>\n",
       "      <td>650</td>\n",
       "      <td>test</td>\n",
       "      <td>limousine</td>\n",
       "      <td>1995</td>\n",
       "      <td>manuell</td>\n",
       "      <td>...</td>\n",
       "      <td>3er</td>\n",
       "      <td>150000</td>\n",
       "      <td>10</td>\n",
       "      <td>benzin</td>\n",
       "      <td>bmw</td>\n",
       "      <td>ja</td>\n",
       "      <td>2016-04-04 00:00:00</td>\n",
       "      <td>0</td>\n",
       "      <td>33775</td>\n",
       "      <td>2016-04-06 19:17:07</td>\n",
       "    </tr>\n",
       "    <tr>\n",
       "      <th>6</th>\n",
       "      <td>6</td>\n",
       "      <td>2016-04-01 20:48:51</td>\n",
       "      <td>Peugeot_206_CC_110_Platinum</td>\n",
       "      <td>privat</td>\n",
       "      <td>Angebot</td>\n",
       "      <td>2200</td>\n",
       "      <td>test</td>\n",
       "      <td>cabrio</td>\n",
       "      <td>2004</td>\n",
       "      <td>manuell</td>\n",
       "      <td>...</td>\n",
       "      <td>2_reihe</td>\n",
       "      <td>150000</td>\n",
       "      <td>8</td>\n",
       "      <td>benzin</td>\n",
       "      <td>peugeot</td>\n",
       "      <td>nein</td>\n",
       "      <td>2016-04-01 00:00:00</td>\n",
       "      <td>0</td>\n",
       "      <td>67112</td>\n",
       "      <td>2016-04-05 18:18:39</td>\n",
       "    </tr>\n",
       "    <tr>\n",
       "      <th>...</th>\n",
       "      <td>...</td>\n",
       "      <td>...</td>\n",
       "      <td>...</td>\n",
       "      <td>...</td>\n",
       "      <td>...</td>\n",
       "      <td>...</td>\n",
       "      <td>...</td>\n",
       "      <td>...</td>\n",
       "      <td>...</td>\n",
       "      <td>...</td>\n",
       "      <td>...</td>\n",
       "      <td>...</td>\n",
       "      <td>...</td>\n",
       "      <td>...</td>\n",
       "      <td>...</td>\n",
       "      <td>...</td>\n",
       "      <td>...</td>\n",
       "      <td>...</td>\n",
       "      <td>...</td>\n",
       "      <td>...</td>\n",
       "      <td>...</td>\n",
       "    </tr>\n",
       "    <tr>\n",
       "      <th>371521</th>\n",
       "      <td>371521</td>\n",
       "      <td>2016-03-27 20:36:20</td>\n",
       "      <td>Opel_Zafira_1.6_Elegance_TÜV_12/16</td>\n",
       "      <td>privat</td>\n",
       "      <td>Angebot</td>\n",
       "      <td>1150</td>\n",
       "      <td>control</td>\n",
       "      <td>bus</td>\n",
       "      <td>2000</td>\n",
       "      <td>manuell</td>\n",
       "      <td>...</td>\n",
       "      <td>zafira</td>\n",
       "      <td>150000</td>\n",
       "      <td>3</td>\n",
       "      <td>benzin</td>\n",
       "      <td>opel</td>\n",
       "      <td>nein</td>\n",
       "      <td>2016-03-27 00:00:00</td>\n",
       "      <td>0</td>\n",
       "      <td>26624</td>\n",
       "      <td>2016-03-29 10:17:23</td>\n",
       "    </tr>\n",
       "    <tr>\n",
       "      <th>371524</th>\n",
       "      <td>371524</td>\n",
       "      <td>2016-03-05 19:56:21</td>\n",
       "      <td>Smart_smart_leistungssteigerung_100ps</td>\n",
       "      <td>privat</td>\n",
       "      <td>Angebot</td>\n",
       "      <td>1199</td>\n",
       "      <td>test</td>\n",
       "      <td>cabrio</td>\n",
       "      <td>2000</td>\n",
       "      <td>automatik</td>\n",
       "      <td>...</td>\n",
       "      <td>fortwo</td>\n",
       "      <td>125000</td>\n",
       "      <td>3</td>\n",
       "      <td>benzin</td>\n",
       "      <td>smart</td>\n",
       "      <td>nein</td>\n",
       "      <td>2016-03-05 00:00:00</td>\n",
       "      <td>0</td>\n",
       "      <td>26135</td>\n",
       "      <td>2016-03-11 18:17:12</td>\n",
       "    </tr>\n",
       "    <tr>\n",
       "      <th>371525</th>\n",
       "      <td>371525</td>\n",
       "      <td>2016-03-19 18:57:12</td>\n",
       "      <td>Volkswagen_Multivan_T4_TDI_7DC_UY2</td>\n",
       "      <td>privat</td>\n",
       "      <td>Angebot</td>\n",
       "      <td>9200</td>\n",
       "      <td>test</td>\n",
       "      <td>bus</td>\n",
       "      <td>1996</td>\n",
       "      <td>manuell</td>\n",
       "      <td>...</td>\n",
       "      <td>transporter</td>\n",
       "      <td>150000</td>\n",
       "      <td>3</td>\n",
       "      <td>diesel</td>\n",
       "      <td>volkswagen</td>\n",
       "      <td>nein</td>\n",
       "      <td>2016-03-19 00:00:00</td>\n",
       "      <td>0</td>\n",
       "      <td>87439</td>\n",
       "      <td>2016-04-07 07:15:26</td>\n",
       "    </tr>\n",
       "    <tr>\n",
       "      <th>371526</th>\n",
       "      <td>371526</td>\n",
       "      <td>2016-03-20 19:41:08</td>\n",
       "      <td>VW_Golf_Kombi_1_9l_TDI</td>\n",
       "      <td>privat</td>\n",
       "      <td>Angebot</td>\n",
       "      <td>3400</td>\n",
       "      <td>test</td>\n",
       "      <td>kombi</td>\n",
       "      <td>2002</td>\n",
       "      <td>manuell</td>\n",
       "      <td>...</td>\n",
       "      <td>golf</td>\n",
       "      <td>150000</td>\n",
       "      <td>6</td>\n",
       "      <td>diesel</td>\n",
       "      <td>volkswagen</td>\n",
       "      <td>NaN</td>\n",
       "      <td>2016-03-20 00:00:00</td>\n",
       "      <td>0</td>\n",
       "      <td>40764</td>\n",
       "      <td>2016-03-24 12:45:21</td>\n",
       "    </tr>\n",
       "    <tr>\n",
       "      <th>371527</th>\n",
       "      <td>371527</td>\n",
       "      <td>2016-03-07 19:39:19</td>\n",
       "      <td>BMW_M135i_vollausgestattet_NP_52.720____Euro</td>\n",
       "      <td>privat</td>\n",
       "      <td>Angebot</td>\n",
       "      <td>28990</td>\n",
       "      <td>control</td>\n",
       "      <td>limousine</td>\n",
       "      <td>2013</td>\n",
       "      <td>manuell</td>\n",
       "      <td>...</td>\n",
       "      <td>m_reihe</td>\n",
       "      <td>50000</td>\n",
       "      <td>8</td>\n",
       "      <td>benzin</td>\n",
       "      <td>bmw</td>\n",
       "      <td>nein</td>\n",
       "      <td>2016-03-07 00:00:00</td>\n",
       "      <td>0</td>\n",
       "      <td>73326</td>\n",
       "      <td>2016-03-22 03:17:10</td>\n",
       "    </tr>\n",
       "  </tbody>\n",
       "</table>\n",
       "<p>299864 rows × 21 columns</p>\n",
       "</div>"
      ],
      "text/plain": [
       "         index          dateCrawled  \\\n",
       "2            2  2016-03-14 12:52:21   \n",
       "3            3  2016-03-17 16:54:04   \n",
       "4            4  2016-03-31 17:25:20   \n",
       "5            5  2016-04-04 17:36:23   \n",
       "6            6  2016-04-01 20:48:51   \n",
       "...        ...                  ...   \n",
       "371521  371521  2016-03-27 20:36:20   \n",
       "371524  371524  2016-03-05 19:56:21   \n",
       "371525  371525  2016-03-19 18:57:12   \n",
       "371526  371526  2016-03-20 19:41:08   \n",
       "371527  371527  2016-03-07 19:39:19   \n",
       "\n",
       "                                                     name  seller offerType  \\\n",
       "2                          Jeep_Grand_Cherokee_\"Overland\"  privat   Angebot   \n",
       "3                                      GOLF_4_1_4__3TÜRER  privat   Angebot   \n",
       "4                          Skoda_Fabia_1.4_TDI_PD_Classic  privat   Angebot   \n",
       "5       BMW_316i___e36_Limousine___Bastlerfahrzeug__Ex...  privat   Angebot   \n",
       "6                             Peugeot_206_CC_110_Platinum  privat   Angebot   \n",
       "...                                                   ...     ...       ...   \n",
       "371521                 Opel_Zafira_1.6_Elegance_TÜV_12/16  privat   Angebot   \n",
       "371524              Smart_smart_leistungssteigerung_100ps  privat   Angebot   \n",
       "371525                 Volkswagen_Multivan_T4_TDI_7DC_UY2  privat   Angebot   \n",
       "371526                             VW_Golf_Kombi_1_9l_TDI  privat   Angebot   \n",
       "371527       BMW_M135i_vollausgestattet_NP_52.720____Euro  privat   Angebot   \n",
       "\n",
       "        price   abtest vehicleType  yearOfRegistration    gearbox  ...  \\\n",
       "2        9800     test         suv                2004  automatik  ...   \n",
       "3        1500     test  kleinwagen                2001    manuell  ...   \n",
       "4        3600     test  kleinwagen                2008    manuell  ...   \n",
       "5         650     test   limousine                1995    manuell  ...   \n",
       "6        2200     test      cabrio                2004    manuell  ...   \n",
       "...       ...      ...         ...                 ...        ...  ...   \n",
       "371521   1150  control         bus                2000    manuell  ...   \n",
       "371524   1199     test      cabrio                2000  automatik  ...   \n",
       "371525   9200     test         bus                1996    manuell  ...   \n",
       "371526   3400     test       kombi                2002    manuell  ...   \n",
       "371527  28990  control   limousine                2013    manuell  ...   \n",
       "\n",
       "              model kilometer  monthOfRegistration  fuelType       brand  \\\n",
       "2             grand    125000                    8    diesel        jeep   \n",
       "3              golf    150000                    6    benzin  volkswagen   \n",
       "4             fabia     90000                    7    diesel       skoda   \n",
       "5               3er    150000                   10    benzin         bmw   \n",
       "6           2_reihe    150000                    8    benzin     peugeot   \n",
       "...             ...       ...                  ...       ...         ...   \n",
       "371521       zafira    150000                    3    benzin        opel   \n",
       "371524       fortwo    125000                    3    benzin       smart   \n",
       "371525  transporter    150000                    3    diesel  volkswagen   \n",
       "371526         golf    150000                    6    diesel  volkswagen   \n",
       "371527      m_reihe     50000                    8    benzin         bmw   \n",
       "\n",
       "       notRepairedDamage          dateCreated nrOfPictures  postalCode  \\\n",
       "2                    NaN  2016-03-14 00:00:00            0       90480   \n",
       "3                   nein  2016-03-17 00:00:00            0       91074   \n",
       "4                   nein  2016-03-31 00:00:00            0       60437   \n",
       "5                     ja  2016-04-04 00:00:00            0       33775   \n",
       "6                   nein  2016-04-01 00:00:00            0       67112   \n",
       "...                  ...                  ...          ...         ...   \n",
       "371521              nein  2016-03-27 00:00:00            0       26624   \n",
       "371524              nein  2016-03-05 00:00:00            0       26135   \n",
       "371525              nein  2016-03-19 00:00:00            0       87439   \n",
       "371526               NaN  2016-03-20 00:00:00            0       40764   \n",
       "371527              nein  2016-03-07 00:00:00            0       73326   \n",
       "\n",
       "                   lastSeen  \n",
       "2       2016-04-05 12:47:46  \n",
       "3       2016-03-17 17:40:17  \n",
       "4       2016-04-06 10:17:21  \n",
       "5       2016-04-06 19:17:07  \n",
       "6       2016-04-05 18:18:39  \n",
       "...                     ...  \n",
       "371521  2016-03-29 10:17:23  \n",
       "371524  2016-03-11 18:17:12  \n",
       "371525  2016-04-07 07:15:26  \n",
       "371526  2016-03-24 12:45:21  \n",
       "371527  2016-03-22 03:17:10  \n",
       "\n",
       "[299864 rows x 21 columns]"
      ]
     },
     "execution_count": 9,
     "metadata": {},
     "output_type": "execute_result"
    }
   ],
   "source": [
    "df = df.dropna(subset= ['vehicleType', 'gearbox', 'model', 'fuelType'])\n",
    "df"
   ]
  },
  {
   "cell_type": "code",
   "execution_count": 10,
   "id": "be519def",
   "metadata": {},
   "outputs": [
    {
     "name": "stderr",
     "output_type": "stream",
     "text": [
      "C:\\Users\\konty\\AppData\\Local\\Temp\\ipykernel_46044\\1311206622.py:1: FutureWarning: A value is trying to be set on a copy of a DataFrame or Series through chained assignment using an inplace method.\n",
      "The behavior will change in pandas 3.0. This inplace method will never work because the intermediate object on which we are setting values always behaves as a copy.\n",
      "\n",
      "For example, when doing 'df[col].method(value, inplace=True)', try using 'df.method({col: value}, inplace=True)' or df[col] = df[col].method(value) instead, to perform the operation inplace on the original object.\n",
      "\n",
      "\n",
      "  df['notRepairedDamage'].fillna('Unknown', inplace=True)\n"
     ]
    }
   ],
   "source": [
    "df['notRepairedDamage'].fillna('Unknown', inplace=True)"
   ]
  },
  {
   "cell_type": "code",
   "execution_count": 11,
   "id": "1b801a51",
   "metadata": {},
   "outputs": [
    {
     "data": {
      "text/plain": [
       "index                  0.0\n",
       "dateCrawled            0.0\n",
       "name                   0.0\n",
       "seller                 0.0\n",
       "offerType              0.0\n",
       "price                  0.0\n",
       "abtest                 0.0\n",
       "vehicleType            0.0\n",
       "yearOfRegistration     0.0\n",
       "gearbox                0.0\n",
       "powerPS                0.0\n",
       "model                  0.0\n",
       "kilometer              0.0\n",
       "monthOfRegistration    0.0\n",
       "fuelType               0.0\n",
       "brand                  0.0\n",
       "notRepairedDamage      0.0\n",
       "dateCreated            0.0\n",
       "nrOfPictures           0.0\n",
       "postalCode             0.0\n",
       "lastSeen               0.0\n",
       "dtype: float64"
      ]
     },
     "execution_count": 11,
     "metadata": {},
     "output_type": "execute_result"
    }
   ],
   "source": [
    "round((df.isna().mean()) * 100)"
   ]
  },
  {
   "cell_type": "code",
   "execution_count": 12,
   "id": "2f68ceab",
   "metadata": {},
   "outputs": [
    {
     "data": {
      "text/plain": [
       "Index(['index', 'dateCrawled', 'name', 'seller', 'offerType', 'price',\n",
       "       'abtest', 'vehicleType', 'yearOfRegistration', 'gearbox', 'powerPS',\n",
       "       'model', 'kilometer', 'monthOfRegistration', 'fuelType', 'brand',\n",
       "       'notRepairedDamage', 'dateCreated', 'nrOfPictures', 'postalCode',\n",
       "       'lastSeen'],\n",
       "      dtype='object')"
      ]
     },
     "execution_count": 12,
     "metadata": {},
     "output_type": "execute_result"
    }
   ],
   "source": [
    "df.columns"
   ]
  },
  {
   "cell_type": "code",
   "execution_count": 13,
   "id": "bd1e75f4",
   "metadata": {},
   "outputs": [
    {
     "name": "stdout",
     "output_type": "stream",
     "text": [
      "<class 'pandas.core.frame.DataFrame'>\n",
      "Index: 299864 entries, 2 to 371527\n",
      "Data columns (total 21 columns):\n",
      " #   Column               Non-Null Count   Dtype \n",
      "---  ------               --------------   ----- \n",
      " 0   index                299864 non-null  int64 \n",
      " 1   dateCrawled          299864 non-null  object\n",
      " 2   name                 299864 non-null  object\n",
      " 3   seller               299864 non-null  object\n",
      " 4   offerType            299864 non-null  object\n",
      " 5   price                299864 non-null  int64 \n",
      " 6   abtest               299864 non-null  object\n",
      " 7   vehicleType          299864 non-null  object\n",
      " 8   yearOfRegistration   299864 non-null  int64 \n",
      " 9   gearbox              299864 non-null  object\n",
      " 10  powerPS              299864 non-null  int64 \n",
      " 11  model                299864 non-null  object\n",
      " 12  kilometer            299864 non-null  int64 \n",
      " 13  monthOfRegistration  299864 non-null  int64 \n",
      " 14  fuelType             299864 non-null  object\n",
      " 15  brand                299864 non-null  object\n",
      " 16  notRepairedDamage    299864 non-null  object\n",
      " 17  dateCreated          299864 non-null  object\n",
      " 18  nrOfPictures         299864 non-null  int64 \n",
      " 19  postalCode           299864 non-null  int64 \n",
      " 20  lastSeen             299864 non-null  object\n",
      "dtypes: int64(8), object(13)\n",
      "memory usage: 50.3+ MB\n"
     ]
    }
   ],
   "source": [
    "df.info()"
   ]
  },
  {
   "cell_type": "code",
   "execution_count": 14,
   "id": "7df6f0b5",
   "metadata": {},
   "outputs": [
    {
     "data": {
      "image/png": "[encoded data removed]",
      "text/plain": [
       "<Figure size 1800x2000 with 12 Axes>"
      ]
     },
     "metadata": {},
     "output_type": "display_data"
    }
   ],
   "source": [
    "import matplotlib.pyplot as plt\n",
    "\n",
    "fig, axes = plt.subplots(nrows=4, ncols=3, figsize=(18, 20))\n",
    "\n",
    "# Row 1\n",
    "df['seller'].value_counts().plot(kind='bar', title='Seller Type', color=['red', 'blue'], ax=axes[0, 0], rot=30, xlabel='')\n",
    "df['offerType'].value_counts().plot(kind='bar', title='Offer Type', color=['red', 'blue'], ax=axes[0, 1], rot=30, xlabel='')\n",
    "df['abtest'].value_counts().plot(kind='bar', title='Test Type', color=['red', 'blue'], ax=axes[0, 2], rot=30, xlabel='')\n",
    "\n",
    "# Row 2\n",
    "df['fuelType'].value_counts().plot(kind='bar', title='Fuel Type', color=['red', 'blue'], ax=axes[1, 0], rot=30, xlabel='')\n",
    "df['vehicleType'].value_counts().plot(kind='bar', title='Vehicle Type', color=['red', 'blue'], ax=axes[1, 1], rot=30, xlabel='')\n",
    "df['gearbox'].value_counts().plot(kind='bar', title='Gearbox Type', color=['red', 'blue'], ax=axes[1, 2], rot=30, xlabel='')\n",
    "\n",
    "# Row 3\n",
    "df['notRepairedDamage'].value_counts().plot(kind='bar', title='Damage Repaired', color=['red', 'blue'], ax=axes[2, 0], rot=30, xlabel='')\n",
    "df['model'].value_counts().head(10).plot(kind='bar', title='Top 10 Models', color='green', ax=axes[2, 1], rot=30, xlabel='')\n",
    "df['brand'].value_counts().head(10).plot(kind='bar', title='Top 10 Brands', color='purple', ax=axes[2, 2], rot=30, xlabel='')\n",
    "\n",
    "# Row 4\n",
    "df['kilometer'].value_counts().sort_index(ascending=False).plot(kind='bar', title='Kilometers', color='orange', ax=axes[3, 0], rot=30, xlabel='')\n",
    "df['monthOfRegistration'].value_counts().sort_index().plot(kind='bar', title='Listing Month', color='teal', ax=axes[3, 1], rot=30, xlabel='')\n",
    "df['yearOfRegistration'].value_counts().sort_index().tail(10).plot(kind='bar', title='Recent Registration Years', color='brown', ax=axes[3, 2], rot=30, xlabel='')\n",
    "\n",
    "plt.tight_layout()\n",
    "plt.show()\n"
   ]
  },
  {
   "cell_type": "code",
   "execution_count": 15,
   "id": "44de8dc0",
   "metadata": {},
   "outputs": [],
   "source": [
    "df.drop(['index', 'nrOfPictures', 'seller', 'offerType', 'dateCrawled'], axis=1, inplace=True)"
   ]
  },
  {
   "cell_type": "code",
   "execution_count": 16,
   "id": "8a44c51a",
   "metadata": {},
   "outputs": [],
   "source": [
    "df = df[df['fuelType'].isin(['benzin', 'diesel'])]"
   ]
  },
  {
   "cell_type": "code",
   "execution_count": 17,
   "id": "cbe6dda5",
   "metadata": {},
   "outputs": [
    {
     "data": {
      "text/plain": [
       "fuelType\n",
       "benzin    196714\n",
       "diesel     97610\n",
       "Name: count, dtype: int64"
      ]
     },
     "execution_count": 17,
     "metadata": {},
     "output_type": "execute_result"
    }
   ],
   "source": [
    "df.fuelType.value_counts()"
   ]
  },
  {
   "cell_type": "code",
   "execution_count": 18,
   "id": "89f1b8f2",
   "metadata": {},
   "outputs": [
    {
     "data": {
      "text/plain": [
       "yearOfRegistration\n",
       "1999    19263\n",
       "2006    18129\n",
       "2005    17635\n",
       "2003    17584\n",
       "2004    17544\n",
       "        ...  \n",
       "1949        1\n",
       "1919        1\n",
       "1948        1\n",
       "1928        1\n",
       "1947        1\n",
       "Name: count, Length: 92, dtype: int64"
      ]
     },
     "execution_count": 18,
     "metadata": {},
     "output_type": "execute_result"
    }
   ],
   "source": [
    "df.yearOfRegistration.value_counts()"
   ]
  },
  {
   "cell_type": "code",
   "execution_count": 19,
   "id": "0d4944c0",
   "metadata": {},
   "outputs": [],
   "source": [
    "df = df[df['yearOfRegistration'].between(1980, 2023)]"
   ]
  },
  {
   "cell_type": "code",
   "execution_count": 20,
   "id": "86e9ec43",
   "metadata": {},
   "outputs": [
    {
     "data": {
      "text/plain": [
       "monthOfRegistration\n",
       "3     30545\n",
       "6     27355\n",
       "4     25792\n",
       "5     25389\n",
       "7     23743\n",
       "10    22962\n",
       "9     21230\n",
       "11    21228\n",
       "12    21176\n",
       "1     20245\n",
       "8     19776\n",
       "2     18899\n",
       "0     13623\n",
       "Name: count, dtype: int64"
      ]
     },
     "execution_count": 20,
     "metadata": {},
     "output_type": "execute_result"
    }
   ],
   "source": [
    "df.monthOfRegistration.value_counts()"
   ]
  },
  {
   "cell_type": "code",
   "execution_count": 21,
   "id": "58a2906b",
   "metadata": {},
   "outputs": [],
   "source": [
    "df = df[df['monthOfRegistration'] != 0]"
   ]
  },
  {
   "cell_type": "code",
   "execution_count": 22,
   "id": "9f4f39a8",
   "metadata": {},
   "outputs": [],
   "source": [
    "# German to English\n",
    "df['gearbox'] = df['gearbox'].apply(lambda g: 'Manual' if g == 'manuell' else 'Automatic')\n",
    "df['notRepairedDamage'] = df['notRepairedDamage'].apply(lambda g: 'Yes' if g == 'ja' else 'No' if g =='nein' else 'NaN')"
   ]
  },
  {
   "cell_type": "code",
   "execution_count": 23,
   "id": "a8c5cdc3",
   "metadata": {},
   "outputs": [
    {
     "name": "stdout",
     "output_type": "stream",
     "text": [
      "<class 'pandas.core.frame.DataFrame'>\n",
      "Index: 278340 entries, 2 to 371527\n",
      "Data columns (total 16 columns):\n",
      " #   Column               Non-Null Count   Dtype \n",
      "---  ------               --------------   ----- \n",
      " 0   name                 278340 non-null  object\n",
      " 1   price                278340 non-null  int64 \n",
      " 2   abtest               278340 non-null  object\n",
      " 3   vehicleType          278340 non-null  object\n",
      " 4   yearOfRegistration   278340 non-null  int64 \n",
      " 5   gearbox              278340 non-null  object\n",
      " 6   powerPS              278340 non-null  int64 \n",
      " 7   model                278340 non-null  object\n",
      " 8   kilometer            278340 non-null  int64 \n",
      " 9   monthOfRegistration  278340 non-null  int64 \n",
      " 10  fuelType             278340 non-null  object\n",
      " 11  brand                278340 non-null  object\n",
      " 12  notRepairedDamage    278340 non-null  object\n",
      " 13  dateCreated          278340 non-null  object\n",
      " 14  postalCode           278340 non-null  int64 \n",
      " 15  lastSeen             278340 non-null  object\n",
      "dtypes: int64(6), object(10)\n",
      "memory usage: 36.1+ MB\n"
     ]
    }
   ],
   "source": [
    "df.info()"
   ]
  },
  {
   "cell_type": "code",
   "execution_count": 24,
   "id": "8790c581",
   "metadata": {},
   "outputs": [],
   "source": [
    "df['dateCreated'] = pd.to_datetime(df['dateCreated'])\n",
    "df['lastSeen'] = pd.to_datetime(df['lastSeen'])"
   ]
  },
  {
   "cell_type": "code",
   "execution_count": 25,
   "id": "0fa46290",
   "metadata": {},
   "outputs": [
    {
     "data": {
      "text/plain": [
       "(278340, 16)"
      ]
     },
     "execution_count": 25,
     "metadata": {},
     "output_type": "execute_result"
    }
   ],
   "source": [
    "df.shape"
   ]
  },
  {
   "cell_type": "code",
   "execution_count": 26,
   "id": "2af0d464",
   "metadata": {},
   "outputs": [
    {
     "data": {
      "text/plain": [
       "count    2.783400e+05\n",
       "mean     8.256588e+03\n",
       "std      3.855265e+05\n",
       "min      0.000000e+00\n",
       "25%      1.499000e+03\n",
       "50%      3.600000e+03\n",
       "75%      8.300000e+03\n",
       "max      1.000000e+08\n",
       "Name: price, dtype: float64"
      ]
     },
     "execution_count": 26,
     "metadata": {},
     "output_type": "execute_result"
    }
   ],
   "source": [
    "df['price'].describe()"
   ]
  },
  {
   "cell_type": "code",
   "execution_count": 27,
   "id": "fb19c179",
   "metadata": {},
   "outputs": [
    {
     "data": {
      "image/png": "[encoded data removed]",
      "text/plain": [
       "<Figure size 1000x500 with 1 Axes>"
      ]
     },
     "metadata": {},
     "output_type": "display_data"
    }
   ],
   "source": [
    "# Create price bins (e.g., 0-5k, 5k-10k, etc.)\n",
    "bins = [0, 5000, 10000, 15000, 20000, 30000, 40000, 50000, 100000]\n",
    "labels = ['0-5k', '5k-10k', '10k-15k', '15k-20k', '20k-30k', '30k-40k', '40k-50k', '50k-100k']\n",
    "df['price_range'] = pd.cut(df['price'], bins=bins, labels=labels)\n",
    "\n",
    "# Plot\n",
    "price_range_counts = df['price_range'].value_counts().sort_index()\n",
    "\n",
    "plt.figure(figsize=(10, 5))\n",
    "plt.bar(price_range_counts.index.astype(str), price_range_counts.values, color='skyblue')\n",
    "plt.title('Number of Cars in Price Ranges', fontsize=14)\n",
    "plt.xlabel('Price Range (EUR)')\n",
    "plt.ylabel('Number of Cars')\n",
    "plt.tight_layout()\n",
    "plt.show()\n"
   ]
  },
  {
   "cell_type": "code",
   "execution_count": 28,
   "id": "4c26771e",
   "metadata": {},
   "outputs": [],
   "source": [
    "df = df[(df['price'] >= 100) & (df['price'] <= 150000)]\n",
    "df = df[(df['powerPS'] < 1000) & (df['kilometer'] > 0)]"
   ]
  },
  {
   "cell_type": "code",
   "execution_count": 29,
   "id": "96c989a1",
   "metadata": {},
   "outputs": [],
   "source": [
    "df  = df[df['powerPS'] > 0]"
   ]
  },
  {
   "cell_type": "code",
   "execution_count": 30,
   "id": "f02b6959",
   "metadata": {},
   "outputs": [],
   "source": [
    "df['car_age'] = 2025 - df['yearOfRegistration']"
   ]
  },
  {
   "cell_type": "code",
   "execution_count": 31,
   "id": "beba8720",
   "metadata": {},
   "outputs": [
    {
     "data": {
      "text/html": [
       "<div>\n",
       "<style scoped>\n",
       "    .dataframe tbody tr th:only-of-type {\n",
       "        vertical-align: middle;\n",
       "    }\n",
       "\n",
       "    .dataframe tbody tr th {\n",
       "        vertical-align: top;\n",
       "    }\n",
       "\n",
       "    .dataframe thead th {\n",
       "        text-align: right;\n",
       "    }\n",
       "</style>\n",
       "<table border=\"1\" class=\"dataframe\">\n",
       "  <thead>\n",
       "    <tr style=\"text-align: right;\">\n",
       "      <th></th>\n",
       "      <th>yearOfRegistration</th>\n",
       "      <th>car_age</th>\n",
       "    </tr>\n",
       "  </thead>\n",
       "  <tbody>\n",
       "    <tr>\n",
       "      <th>2</th>\n",
       "      <td>2004</td>\n",
       "      <td>21</td>\n",
       "    </tr>\n",
       "    <tr>\n",
       "      <th>3</th>\n",
       "      <td>2001</td>\n",
       "      <td>24</td>\n",
       "    </tr>\n",
       "    <tr>\n",
       "      <th>4</th>\n",
       "      <td>2008</td>\n",
       "      <td>17</td>\n",
       "    </tr>\n",
       "    <tr>\n",
       "      <th>5</th>\n",
       "      <td>1995</td>\n",
       "      <td>30</td>\n",
       "    </tr>\n",
       "    <tr>\n",
       "      <th>6</th>\n",
       "      <td>2004</td>\n",
       "      <td>21</td>\n",
       "    </tr>\n",
       "  </tbody>\n",
       "</table>\n",
       "</div>"
      ],
      "text/plain": [
       "   yearOfRegistration  car_age\n",
       "2                2004       21\n",
       "3                2001       24\n",
       "4                2008       17\n",
       "5                1995       30\n",
       "6                2004       21"
      ]
     },
     "execution_count": 31,
     "metadata": {},
     "output_type": "execute_result"
    }
   ],
   "source": [
    "df[['yearOfRegistration', 'car_age']].head()\n"
   ]
  },
  {
   "cell_type": "code",
   "execution_count": 32,
   "id": "7c0d448f",
   "metadata": {},
   "outputs": [
    {
     "data": {
      "text/plain": [
       "car_age_group\n",
       "0-5 yrs        0\n",
       "6-10        2867\n",
       "11-15      40979\n",
       "16-20      76366\n",
       "21-25      76507\n",
       "26-30      50467\n",
       "31-40      13322\n",
       "40+         1116\n",
       "Name: count, dtype: int64"
      ]
     },
     "execution_count": 32,
     "metadata": {},
     "output_type": "execute_result"
    }
   ],
   "source": [
    "bins = [0, 5, 10, 15, 20, 25, 30, 40, 100]\n",
    "labels = ['0-5 yrs', '6-10', '11-15', '16-20', '21-25', '26-30', '31-40', '40+']\n",
    "df['car_age_group'] = pd.cut(df['car_age'], bins=bins, labels=labels)\n",
    "\n",
    "df['car_age_group'].value_counts().sort_index()"
   ]
  },
  {
   "cell_type": "code",
   "execution_count": 33,
   "id": "cc5f5dee",
   "metadata": {},
   "outputs": [
    {
     "data": {
      "text/plain": [
       "<Axes: title={'center': 'Car Age Groups'}, xlabel='car_age_group'>"
      ]
     },
     "execution_count": 33,
     "metadata": {},
     "output_type": "execute_result"
    },
    {
     "data": {
      "image/png": "[encoded data removed]",
      "text/plain": [
       "<Figure size 1000x500 with 1 Axes>"
      ]
     },
     "metadata": {},
     "output_type": "display_data"
    }
   ],
   "source": [
    "df['car_age_group'].value_counts().sort_index().plot(kind='bar', color='orange', figsize=(10, 5), title='Car Age Groups')\n"
   ]
  },
  {
   "cell_type": "code",
   "execution_count": 34,
   "id": "1b7fd12b",
   "metadata": {},
   "outputs": [],
   "source": [
    "categorical_cols = ['vehicleType', 'gearbox', 'model', 'brand', 'fuelType', 'notRepairedDamage', 'car_age_group', 'abtest', 'price_range']\n",
    "for col in categorical_cols:\n",
    "    df[col] = df[col].astype('category')"
   ]
  },
  {
   "cell_type": "code",
   "execution_count": 35,
   "id": "2646dbed",
   "metadata": {},
   "outputs": [],
   "source": [
    "from sklearn.preprocessing import LabelEncoder\n",
    "\n",
    "le = LabelEncoder()\n",
    "for col in categorical_cols:\n",
    "    df[col] = le.fit_transform(df[col].astype(str))\n"
   ]
  },
  {
   "cell_type": "code",
   "execution_count": 36,
   "id": "ff9ec4d7",
   "metadata": {},
   "outputs": [
    {
     "name": "stdout",
     "output_type": "stream",
     "text": [
      "<class 'pandas.core.frame.DataFrame'>\n",
      "Index: 261624 entries, 2 to 371527\n",
      "Data columns (total 19 columns):\n",
      " #   Column               Non-Null Count   Dtype         \n",
      "---  ------               --------------   -----         \n",
      " 0   name                 261624 non-null  object        \n",
      " 1   price                261624 non-null  int64         \n",
      " 2   abtest               261624 non-null  int32         \n",
      " 3   vehicleType          261624 non-null  int32         \n",
      " 4   yearOfRegistration   261624 non-null  int64         \n",
      " 5   gearbox              261624 non-null  int32         \n",
      " 6   powerPS              261624 non-null  int64         \n",
      " 7   model                261624 non-null  int32         \n",
      " 8   kilometer            261624 non-null  int64         \n",
      " 9   monthOfRegistration  261624 non-null  int64         \n",
      " 10  fuelType             261624 non-null  int32         \n",
      " 11  brand                261624 non-null  int32         \n",
      " 12  notRepairedDamage    261624 non-null  int32         \n",
      " 13  dateCreated          261624 non-null  datetime64[ns]\n",
      " 14  postalCode           261624 non-null  int64         \n",
      " 15  lastSeen             261624 non-null  datetime64[ns]\n",
      " 16  price_range          261624 non-null  int32         \n",
      " 17  car_age              261624 non-null  int64         \n",
      " 18  car_age_group        261624 non-null  int32         \n",
      "dtypes: datetime64[ns](2), int32(9), int64(7), object(1)\n",
      "memory usage: 30.9+ MB\n"
     ]
    }
   ],
   "source": [
    "df.info()"
   ]
  },
  {
   "cell_type": "code",
   "execution_count": 37,
   "id": "58394605",
   "metadata": {},
   "outputs": [],
   "source": [
    "from sklearn.preprocessing import StandardScaler\n",
    "\n",
    "scaler = StandardScaler()\n",
    "num_cols = ['price', 'powerPS', 'kilometer', 'car_age']\n",
    "\n",
    "df[num_cols] = scaler.fit_transform(df[num_cols])"
   ]
  },
  {
   "cell_type": "code",
   "execution_count": 38,
   "id": "de14fd97",
   "metadata": {},
   "outputs": [
    {
     "data": {
      "text/plain": [
       "(261624, 19)"
      ]
     },
     "execution_count": 38,
     "metadata": {},
     "output_type": "execute_result"
    }
   ],
   "source": [
    "df.shape"
   ]
  },
  {
   "cell_type": "code",
   "execution_count": 39,
   "id": "a74d1ec8",
   "metadata": {},
   "outputs": [],
   "source": [
    "from sklearn.model_selection import train_test_split\n",
    "\n",
    "X = df.drop(['price'], axis=1)\n",
    "y = df['price']\n",
    "X_train, X_test, y_train, y_test = train_test_split(X, y, test_size=0.2, random_state=42)"
   ]
  },
  {
   "cell_type": "markdown",
   "id": "3864110e",
   "metadata": {},
   "source": [
    "### Streamlit"
   ]
  },
  {
   "cell_type": "code",
   "execution_count": 40,
   "id": "abb88387",
   "metadata": {},
   "outputs": [],
   "source": [
    "df.to_csv('cleaned_df.csv')"
   ]
  },
  {
   "cell_type": "code",
   "execution_count": 50,
   "id": "58463eeb",
   "metadata": {},
   "outputs": [
    {
     "name": "stdout",
     "output_type": "stream",
     "text": [
      "Overwriting used_cars_app.py\n"
     ]
    }
   ],
   "source": [
    "%%writefile used_cars_app.py\n",
    "\n",
    "import streamlit as st\n",
    "import pandas as pd\n",
    "import plotly.express as px\n",
    "import zipfile\n",
    "\n",
    "st.markdown(\"<h1 style='text-align: center; color: cyan;'>🚗 Used Cars Explorer</h1>\", unsafe_allow_html=True)\n",
    "st.markdown(\"<h4 style='text-align: center;'>Analyze, Filter & Visualize cleaned dataset easily</h4>\", unsafe_allow_html=True)\n",
    "st.markdown(\"---\")\n",
    "\n",
    "@st.cache_data\n",
    "def load_data():\n",
    "    with zipfile.ZipFile('cleaned_df.zip') as z:\n",
    "        with z.open('cleaned_df.csv') as f:\n",
    "            df = pd.read_csv(f, index_col=0)\n",
    "            df['car_age'] = 2025 - df['yearOfRegistration']\n",
    "            return df\n",
    "\n",
    "df = load_data()\n",
    "\n",
    "# --- Sidebar filters ---\n",
    "st.sidebar.header(\"🔧 Filter Options\")\n",
    "\n",
    "brands = sorted(df['brand'].dropna().unique())\n",
    "selected_brand = st.sidebar.selectbox(\"Select Brand\", options=[\"All\"] + brands)\n",
    "if selected_brand != \"All\":\n",
    "    df = df[df['brand'] == selected_brand]\n",
    "\n",
    "fuel_types = sorted(df['fuelType'].dropna().unique())\n",
    "selected_fuel = st.sidebar.multiselect(\"Select Fuel Type(s)\", fuel_types, default=fuel_types)\n",
    "df = df[df['fuelType'].isin(selected_fuel)]\n",
    "\n",
    "age_range = st.sidebar.slider(\"Select Car Age\", min_value=int(df['car_age'].min()), max_value=int(df['car_age'].max()), value=(0, 30))\n",
    "df = df[df['car_age'].between(age_range[0], age_range[1])]\n",
    "\n",
    "st.subheader(\"🔍 Preview of Filtered Data\")\n",
    "st.dataframe(df.head(10))\n",
    "\n",
    "st.subheader(\"📊 Summary Statistics\")\n",
    "st.write(df.describe().T)\n",
    "\n",
    "st.subheader(\"📈 Price Distribution\")\n",
    "fig_price = px.histogram(df, x='price', nbins=50, color_discrete_sequence=['#00BFC4'])\n",
    "st.plotly_chart(fig_price)\n",
    "\n",
    "st.subheader(\"🚘 Price by Vehicle Type\")\n",
    "fig_box = px.box(df, x='vehicleType', y='price', color='vehicleType', title=\"Boxplot by Vehicle Type\")\n",
    "st.plotly_chart(fig_box)\n",
    "\n",
    "df_scatter = df.dropna(subset=['car_age', 'price', 'gearbox', 'powerPS'])\n",
    "\n",
    "df_scatter = df.dropna(subset=['car_age', 'price', 'gearbox', 'powerPS'])\n",
    "\n",
    "st.subheader(\"🏷️ Most Common Car Models\")\n",
    "model_counts = df['model'].value_counts().head(10)\n",
    "st.bar_chart(model_counts)\n",
    "\n",
    "st.subheader(\"⛽ Fuel Type Distribution\")\n",
    "fuel_counts = df['fuelType'].value_counts()\n",
    "fig_fuel = px.pie(values=fuel_counts.values, names=fuel_counts.index, title=\"Fuel Type Share\")\n",
    "st.plotly_chart(fig_fuel)\n",
    "\n",
    "# Remove rows with non-positive or unrealistic powerPS\n",
    "df_scatter = df_scatter[df_scatter['powerPS'] > 0]\n",
    "\n",
    "st.subheader(\"📉 Price vs. Car Age\")\n",
    "fig_scatter = px.scatter(\n",
    "    df_scatter,\n",
    "    x='car_age',\n",
    "    y='price',\n",
    "    color='gearbox',\n",
    "    size='powerPS',\n",
    "    title=\"Price vs. Car Age (colored by gearbox, sized by powerPS)\",\n",
    "    opacity=0.6\n",
    ")\n",
    "st.plotly_chart(fig_scatter)\n",
    "\n",
    "\n",
    "st.markdown(\"---\")\n",
    "st.caption(\"Made by Abdalla Gamal | Streamlit App for Cleaned Used Cars Dataset 🚗\")\n"
   ]
  },
  {
   "cell_type": "code",
   "execution_count": 49,
   "id": "a1728b80",
   "metadata": {},
   "outputs": [
    {
     "name": "stdout",
     "output_type": "stream",
     "text": [
      "^C\n"
     ]
    }
   ],
   "source": [
    "! streamlit run used_cars_app.py"
   ]
  }
 ],
 "metadata": {
  "kernelspec": {
   "display_name": "AiCourse",
   "language": "python",
   "name": "python3"
  },
  "language_info": {
   "codemirror_mode": {
    "name": "ipython",
    "version": 3
   },
   "file_extension": ".py",
   "mimetype": "text/x-python",
   "name": "python",
   "nbconvert_exporter": "python",
   "pygments_lexer": "ipython3",
   "version": "3.12.8"
  }
 },
 "nbformat": 4,
 "nbformat_minor": 5
}
